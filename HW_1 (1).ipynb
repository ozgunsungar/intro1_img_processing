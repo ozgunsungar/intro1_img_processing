{
  "nbformat": 4,
  "nbformat_minor": 0,
  "metadata": {
    "colab": {
      "name": "HW_1.ipynb",
      "provenance": [],
      "collapsed_sections": []
    },
    "kernelspec": {
      "name": "python3",
      "display_name": "Python 3"
    },
    "language_info": {
      "name": "python"
    }
  },
  "cells": [
    {
      "cell_type": "code",
      "execution_count": null,
      "metadata": {
        "id": "wOiZNt8uDXJn"
      },
      "outputs": [],
      "source": [
        "import cv2\n",
        "import numpy as np\n",
        "\n",
        "import tensorflow as tf\n",
        "import math"
      ]
    },
    {
      "cell_type": "code",
      "source": [
        "image_path = tf.keras.utils.get_file('image.png', 'https://raw.githubusercontent.com/ozgunsungar/Corner-Edge_Detection/main/image.png', cache_subdir=\"/content/\")"
      ],
      "metadata": {
        "id": "2uFWz-bfDye0"
      },
      "execution_count": null,
      "outputs": []
    },
    {
      "cell_type": "code",
      "source": [
        "image = cv2.imread(\"image.png\",0)\n",
        "\n",
        "h,w = image.shape\n",
        "print(h,w)"
      ],
      "metadata": {
        "colab": {
          "base_uri": "https://localhost:8080/"
        },
        "id": "gLWfFAodDy7F",
        "outputId": "7f29e3e4-a856-416c-a941-10f223e1157a"
      },
      "execution_count": null,
      "outputs": [
        {
          "output_type": "stream",
          "name": "stdout",
          "text": [
            "639 499\n"
          ]
        }
      ]
    },
    {
      "cell_type": "markdown",
      "source": [
        "## flips image vertically"
      ],
      "metadata": {
        "id": "heWn06WgEkXA"
      }
    },
    {
      "cell_type": "code",
      "source": [
        "image_copy = np.copy(image)\n",
        "row = 0\n",
        "for i in range(h-1,-1,-1):\n",
        "  image_copy[row,:] = image[i,:]\n",
        "  row+=1\n",
        "\n",
        "cv2.imwrite(\"vertical_flips.png\",image_copy)\n"
      ],
      "metadata": {
        "colab": {
          "base_uri": "https://localhost:8080/"
        },
        "id": "A3QAXaMlEL2f",
        "outputId": "7de8702c-1a88-492e-d86b-d5fd8e026b9f"
      },
      "execution_count": null,
      "outputs": [
        {
          "output_type": "execute_result",
          "data": {
            "text/plain": [
              "True"
            ]
          },
          "metadata": {},
          "execution_count": 56
        }
      ]
    },
    {
      "cell_type": "markdown",
      "source": [
        "## flips image horizontally"
      ],
      "metadata": {
        "id": "j3XzCg4PEps9"
      }
    },
    {
      "cell_type": "code",
      "source": [
        "image_copy = np.copy(image)\n",
        "col = 0\n",
        "for i in range(w-1,-1,-1):\n",
        "  image_copy[:,col] = image[:,i]\n",
        "  col+=1\n",
        "\n",
        "cv2.imwrite(\"horizontal_flips.png\",image_copy)"
      ],
      "metadata": {
        "colab": {
          "base_uri": "https://localhost:8080/"
        },
        "id": "3H09vnP0IMko",
        "outputId": "42f5a922-31b8-47c1-d8be-e96d2ba6048b"
      },
      "execution_count": null,
      "outputs": [
        {
          "output_type": "execute_result",
          "data": {
            "text/plain": [
              "True"
            ]
          },
          "metadata": {},
          "execution_count": 57
        }
      ]
    },
    {
      "cell_type": "markdown",
      "source": [
        "## rotates the image 90 deg counterclockwise"
      ],
      "metadata": {
        "id": "L9CWm3kIEyIw"
      }
    },
    {
      "cell_type": "code",
      "source": [
        "img_zeros = np.zeros((w,h))\n",
        "row = 0\n",
        "for i in range(0,w):\n",
        "  img_zeros[row,:] = image[:,-i]\n",
        "  row+=1\n",
        "img_counterclockwise = np.copy(img_zeros)\n",
        "cv2.imwrite(\"image_counterclockwise.png\",img_counterclockwise)\n",
        "\n"
      ],
      "metadata": {
        "colab": {
          "base_uri": "https://localhost:8080/"
        },
        "id": "AQlG6SPjSFKr",
        "outputId": "956efc22-b8ec-4eb3-c151-66603bb0f44b"
      },
      "execution_count": null,
      "outputs": [
        {
          "output_type": "execute_result",
          "data": {
            "text/plain": [
              "True"
            ]
          },
          "metadata": {},
          "execution_count": 113
        }
      ]
    },
    {
      "cell_type": "markdown",
      "source": [
        "## rotates the image 90 deg clockwise\n"
      ],
      "metadata": {
        "id": "V-ARsXCaE0PV"
      }
    },
    {
      "cell_type": "code",
      "source": [
        "img_zeros = np.zeros((w,h))\n",
        "col = 0\n",
        "for i in range(0,h-1):\n",
        "  img_zeros[:,col] = image[-i,:]\n",
        "  col+=1\n",
        "img_clockwise = np.copy(img_zeros)\n",
        "cv2.imwrite(\"image_clockwise.png\",img_clockwise)"
      ],
      "metadata": {
        "colab": {
          "base_uri": "https://localhost:8080/"
        },
        "id": "1gqdjTojSVwK",
        "outputId": "b76d4070-7324-459c-f28c-92ddd004bcb0"
      },
      "execution_count": null,
      "outputs": [
        {
          "output_type": "execute_result",
          "data": {
            "text/plain": [
              "True"
            ]
          },
          "metadata": {},
          "execution_count": 115
        }
      ]
    },
    {
      "cell_type": "markdown",
      "source": [
        "## resizes the image to the half by keeping the aspect ratio\n"
      ],
      "metadata": {
        "id": "0disPOU6E0lU"
      }
    },
    {
      "cell_type": "code",
      "source": [
        "rezied_image = image[0::2,0::2]\n",
        "cv2.imwrite(\"rezied_image.png\",rezied_image)\n",
        "print(image.shape)\n",
        "print(rezied_image.shape)\n"
      ],
      "metadata": {
        "id": "DdvVGrTeg1FX"
      },
      "execution_count": null,
      "outputs": []
    },
    {
      "cell_type": "markdown",
      "source": [
        "## applies negative transformation on the image"
      ],
      "metadata": {
        "id": "2wxyWEgwE06e"
      }
    },
    {
      "cell_type": "code",
      "source": [
        "negative_image = np.ones((h,w))*255\n",
        "negative_image = negative_image-image\n",
        "\n",
        "cv2.imwrite(\"negative_image.png\",negative_image)\n",
        "      \n",
        "      "
      ],
      "metadata": {
        "colab": {
          "base_uri": "https://localhost:8080/"
        },
        "id": "Y7s0j_SWpm88",
        "outputId": "0abfd6dd-b2f0-4b94-c374-3fe4492f1871"
      },
      "execution_count": null,
      "outputs": [
        {
          "output_type": "execute_result",
          "data": {
            "text/plain": [
              "True"
            ]
          },
          "metadata": {},
          "execution_count": 129
        }
      ]
    },
    {
      "cell_type": "markdown",
      "source": [
        "## applies gamma transformation on the image"
      ],
      "metadata": {
        "id": "srT4GD9QE1SH"
      }
    },
    {
      "cell_type": "code",
      "source": [
        "# compute gamma = log(mid*255)/log(mean)\n",
        "mid = 0.4\n",
        "mean = np.mean(image)\n",
        "gamma = math.log(mid*255)/math.log(mean)\n",
        "\n",
        "# do gamma correction\n",
        "image_gamma = np.power(image, gamma).clip(0,255).astype(np.uint8)\n",
        "cv2.imwrite(\"image_gamma.png\",image_gamma)"
      ],
      "metadata": {
        "colab": {
          "base_uri": "https://localhost:8080/"
        },
        "id": "l1L2_g1XsYlH",
        "outputId": "f1b070e1-a1e5-45ea-df7a-55e633eea906"
      },
      "execution_count": null,
      "outputs": [
        {
          "output_type": "execute_result",
          "data": {
            "text/plain": [
              "True"
            ]
          },
          "metadata": {},
          "execution_count": 136
        }
      ]
    },
    {
      "cell_type": "markdown",
      "source": [
        "## computes the histogram of the image"
      ],
      "metadata": {
        "id": "au4A6qiYE1dd"
      }
    }
  ]
}